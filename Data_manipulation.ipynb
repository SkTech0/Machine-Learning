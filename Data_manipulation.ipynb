{
  "nbformat": 4,
  "nbformat_minor": 0,
  "metadata": {
    "colab": {
      "provenance": []
    },
    "kernelspec": {
      "name": "python3",
      "display_name": "Python 3"
    },
    "language_info": {
      "name": "python"
    }
  },
  "cells": [
    {
      "cell_type": "markdown",
      "source": [
        "**Data manipulation is a fundamental aspect of the machine learning workflow, as the quality and format of the data significantly impact the performance of models. Here's a more detailed explanation of data manipulation in the context of Python programming for machine learning:**"
      ],
      "metadata": {
        "id": "XFmFpaIxC9ts"
      }
    },
    {
      "cell_type": "markdown",
      "source": [
        "Pandas is a powerful Python library for data manipulation and analysis. One of its key data structures is the DataFrame, which is akin to a table or spreadsheet with rows and columns.\n"
      ],
      "metadata": {
        "id": "h1F2zesQDO6Q"
      }
    },
    {
      "cell_type": "markdown",
      "source": [
        "Pandas provides functions like read_csv(), read_json(), read_excel(), and read_sql() to read data from different sources and create DataFrame objects."
      ],
      "metadata": {
        "id": "menLLhyWDT15"
      }
    },
    {
      "cell_type": "markdown",
      "source": [
        "# Indexing and Selection:"
      ],
      "metadata": {
        "id": "nyOn8ay6FiAw"
      }
    },
    {
      "cell_type": "code",
      "source": [
        "import pandas as pd\n",
        "\n",
        "# Create a sample DataFrame\n",
        "df = pd.DataFrame({'A': [1, 2, 3], 'B': [4, 5, 6]}, index=['x', 'y', 'z'])\n",
        "print(df)\n",
        "\n"
      ],
      "metadata": {
        "colab": {
          "base_uri": "https://localhost:8080/"
        },
        "id": "E_sRekgxFkpe",
        "outputId": "e16ca480-47b5-4183-94c4-8c90dd8da473"
      },
      "execution_count": 19,
      "outputs": [
        {
          "output_type": "stream",
          "name": "stdout",
          "text": [
            "   A  B\n",
            "x  1  4\n",
            "y  2  5\n",
            "z  3  6\n"
          ]
        }
      ]
    },
    {
      "cell_type": "code",
      "source": [
        "# Label-based indexing using loc[]\n",
        "print(df.loc['x', 'A'])\n",
        "\n"
      ],
      "metadata": {
        "colab": {
          "base_uri": "https://localhost:8080/"
        },
        "id": "JHrctIYhFzWy",
        "outputId": "a5d8e221-8563-49b6-9303-06cf019d232f"
      },
      "execution_count": 5,
      "outputs": [
        {
          "output_type": "stream",
          "name": "stdout",
          "text": [
            "1\n"
          ]
        }
      ]
    },
    {
      "cell_type": "code",
      "source": [
        "# Position-based indexing using iloc[]\n",
        "print(df.iloc[0, 1])\n",
        "\n"
      ],
      "metadata": {
        "colab": {
          "base_uri": "https://localhost:8080/"
        },
        "id": "lu5SKjsYGJcr",
        "outputId": "3278544d-dbc8-479a-cfb6-4f32d00fa4e3"
      },
      "execution_count": 6,
      "outputs": [
        {
          "output_type": "stream",
          "name": "stdout",
          "text": [
            "4\n"
          ]
        }
      ]
    },
    {
      "cell_type": "code",
      "source": [
        "# Boolean indexing\n",
        "print(df[df['A'] > 1])"
      ],
      "metadata": {
        "colab": {
          "base_uri": "https://localhost:8080/"
        },
        "id": "wt0wG6-BGZ0j",
        "outputId": "ef64c33b-8396-4260-fca0-e52d194c0098"
      },
      "execution_count": 7,
      "outputs": [
        {
          "output_type": "stream",
          "name": "stdout",
          "text": [
            "   A  B\n",
            "y  2  5\n",
            "z  3  6\n"
          ]
        }
      ]
    },
    {
      "cell_type": "markdown",
      "source": [
        "# Data Manipulation:"
      ],
      "metadata": {
        "id": "BnZgR1gKG3uQ"
      }
    },
    {
      "cell_type": "code",
      "source": [
        "# Adding and Removing Columns\n",
        "df['C'] = [7, 8, 9]\n",
        "df.drop(columns=['B'], inplace=True)\n",
        "print(df)\n",
        "\n",
        "# Sorting\n",
        "df.sort_values(by='A', inplace=True)\n",
        "\n",
        "# Reshaping\n",
        "stacked = df.stack()\n",
        "\n",
        "# Merging and Joining\n",
        "df2 = pd.DataFrame({'A': [4, 5, 6], 'D': [10, 11, 12]}, index=['x', 'y', 'z'])\n",
        "merged_df = df.merge(df2, on='A')\n",
        "\n",
        "# Grouping\n",
        "grouped = df.groupby('A').sum()\n",
        "\n",
        "# Applying Functions\n",
        "df['A_squared'] = df['A'].apply(lambda x: x**2)\n"
      ],
      "metadata": {
        "colab": {
          "base_uri": "https://localhost:8080/"
        },
        "id": "NQLmV9bvGl9_",
        "outputId": "59fbfa28-3b95-4cdf-c38b-b8984ff4c6da"
      },
      "execution_count": 20,
      "outputs": [
        {
          "output_type": "stream",
          "name": "stdout",
          "text": [
            "   A  C\n",
            "x  1  7\n",
            "y  2  8\n",
            "z  3  9\n"
          ]
        }
      ]
    },
    {
      "cell_type": "markdown",
      "source": [
        "# Data Cleaning:"
      ],
      "metadata": {
        "id": "e-8NSjfHIYds"
      }
    },
    {
      "cell_type": "code",
      "source": [
        "# Missing Data Handling\n",
        "df.loc['y', 'A'] = pd.NA\n",
        "print(df.isna())\n",
        "df.fillna(0, inplace=True)\n",
        "\n",
        "# Duplicated Data\n",
        "df.loc['y'] = df.loc['x']  # Create a duplicate row\n",
        "print(df.duplicated())\n",
        "df.drop_duplicates(inplace=True)\n",
        "\n",
        "# Data Transformation\n",
        "df['A'] = df['A'].astype(float)\n",
        "\n",
        "# String Operations\n",
        "df['label'] = ['foo', 'bar', 'baz']\n",
        "print(df['label'].str.contains('b'))\n"
      ],
      "metadata": {
        "id": "7yOs-Ee2HOxK"
      },
      "execution_count": null,
      "outputs": []
    },
    {
      "cell_type": "markdown",
      "source": [
        "# Data Cleaning:"
      ],
      "metadata": {
        "id": "XelelCeGIleQ"
      }
    },
    {
      "cell_type": "code",
      "source": [
        "# Missing Data Handling\n",
        "df.loc['y', 'A'] = pd.NA\n",
        "print(df.isna())\n",
        "df.fillna(0, inplace=True)\n",
        "\n",
        "# Duplicated Data\n",
        "df.loc['y'] = df.loc['x']  # Create a duplicate row\n",
        "print(df.duplicated())\n",
        "df.drop_duplicates(inplace=True)\n",
        "\n",
        "# Data Transformation\n",
        "df['A'] = df['A'].astype(float)\n",
        "\n",
        "# String Operations\n",
        "df['label'] = ['foo', 'bar', 'baz']\n",
        "print(df['label'].str.contains('b'))\n"
      ],
      "metadata": {
        "id": "95Oi-uexImUh"
      },
      "execution_count": null,
      "outputs": []
    }
  ]
}